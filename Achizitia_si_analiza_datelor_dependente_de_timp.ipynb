{
 "cells": [
  {
   "cell_type": "markdown",
   "metadata": {},
   "source": [
    "<h1>Achiziția și analiza datelor dependente de timp (Time-series)</h1>\n"
   ]
  },
  {
   "cell_type": "markdown",
   "metadata": {},
   "source": [
    "<b>DESCRIERE PROIECT</b>\n",
    "\n",
    "    Acest proiect are ca si scop realizarea unor reprezentari de tip Time-Series cu ajutorul limbajului de programare Python si a bazei de date InfluxDB.\n",
    "    In cadrul proiectului se va regasi scrierea datelor din mai multe fisiere CSV in baza de date, realizarea reprezentarii pe harta a antenelor cu ajutorul unui fisier geojson care prezinta coordonatele geografice a acestra, dar si realizarea unor rapoarte care pot reprezenta situatii ipotetice."
   ]
  },
  {
   "cell_type": "markdown",
   "metadata": {},
   "source": [
    "<h3>PASUL 1:</h3><b>IMPORTAREA BIBLIOTECILOR NECESARE</b>"
   ]
  },
  {
   "cell_type": "markdown",
   "metadata": {},
   "source": [
    "Pentru a putea realiza diferite actiuni vom avea nevoie de biblioteci care prezinta niste functii predefinite. Aceste functii predefinite ne pot ajuta, spre exempu, la scrierea datelor, la preluarea valorilor din cadrul csv-urilor, la conectarea cu cluentul bazei de date, la preluarea datelor din cadrul fisierului geojson etc."
   ]
  },
  {
   "cell_type": "code",
   "execution_count": 62,
   "metadata": {},
   "outputs": [],
   "source": [
    "from asyncore import read\n",
    "from cgi import print_form\n",
    "from importlib.resources import path\n",
    "from logging import shutdown\n",
    "from multiprocessing.connection import wait\n",
    "from nturl2path import pathname2url\n",
    "from influxdb_client import InfluxDBClient, Point, WriteOptions\n",
    "from influxdb_client.client.write_api import SYNCHRONOUS\n",
    "import glob\n",
    "import os\n",
    "from numpy import equal\n",
    "import pandas as pd\n",
    "import json\n",
    "import geojson\n",
    "import csv\n",
    "from pandas.io.json import json_normalize\n",
    "import influxdb_client\n",
    "import matplotlib\n",
    "from statsmodels.tsa.api import Holt\n",
    "import matplotlib.pyplot as plt\n",
    "import plotly.express as px\n",
    "import numpy as np"
   ]
  },
  {
   "cell_type": "markdown",
   "metadata": {},
   "source": [
    "<h3>PASUL 2:</h3><b>REALIZAREA CONEXIUNI CU INFLUXDB</b>"
   ]
  },
  {
   "cell_type": "markdown",
   "metadata": {},
   "source": [
    "Pentru a putea scrie datele in cadrul bazei de date ne sunt necesare detaliile clientului din InfluxDB. Astfel folosim numele organizatiei, al bucket-ului in care vor fi adaugare datele, url-ul care reprezinta host-ul local (cel care este standard de baza de date), dar si API token-ul, care este unic pentru fiecare client al bazei de date. "
   ]
  },
  {
   "cell_type": "code",
   "execution_count": 63,
   "metadata": {},
   "outputs": [],
   "source": [
    "# Realizarea conexiunii cu InfluxDB\n",
    "token = \"G6D1pD2v4wsQSCjgUEtJYZA_myiaQUdIJLS7D7LhJVhIJyta-G7ip7iUi2PlZ-yP_EtjC8gWyy00xyKbgKs0qA==\"\n",
    "org = \"Licenta-UPT\"\n",
    "bucket = \"Licenta\"\n",
    "url = \"http://localhost:8086\""
   ]
  },
  {
   "cell_type": "markdown",
   "metadata": {},
   "source": [
    "    Ulterior vom crea instanta pentru client cu ajutorul datelor deja precizate in variabilele de mai sus:"
   ]
  },
  {
   "cell_type": "code",
   "execution_count": 64,
   "metadata": {},
   "outputs": [],
   "source": [
    "# Instanta client\n",
    "client = InfluxDBClient(url=url, token=token, org=org, debug=False)"
   ]
  },
  {
   "cell_type": "markdown",
   "metadata": {},
   "source": [
    "<h3>PASUL 3:</h3><b>SCRIEREA DATELOR IN INFLUXDB</b>"
   ]
  },
  {
   "cell_type": "markdown",
   "metadata": {},
   "source": [
    "Pentru a se realiza scrierea in InfluxDB vom folosi functia de scriere \"write\", fiind necesar sa precizam la inceput valorile parametrilor functiei. Acesti parametrii specificati ne ajuta la scrierea datelor in mod corect:"
   ]
  },
  {
   "cell_type": "code",
   "execution_count": 65,
   "metadata": {},
   "outputs": [],
   "source": [
    "# Instanta scriere\n",
    "write_api = client.write_api(write_options=WriteOptions(batch_size=80_000, flush_interval=10_000, jitter_interval=2_000, retry_interval=5_000))"
   ]
  },
  {
   "cell_type": "markdown",
   "metadata": {},
   "source": [
    "Datele noastre sunt formate din CSV-uri cu SMS-uri primate, SMS-uri trimise, apeluri primite, apeluri effectuate, activitate pe internet, astfel am realizat doua functii care vor realiza scrierea datelor in baza de date, deoarece coloanele sunt diferite in cele doua calupuri de fisiere (call si sms). \n",
    "    \n",
    "Fiecare functie prezinta calea catre dosarul cu toate fisierele care apoi sunt verificate sa fie cu extensia de \".csv\", iar daca acestea au extensia dorita se vor lua coloanele dorite din interiorul fisierelor."
   ]
  },
  {
   "cell_type": "markdown",
   "metadata": {},
   "source": [
    "In cadrul folderului cu datele avem si un fisier GEOJSON in care se afla coordonatele celulelor antenelor care prelucreaza interactiunile dorite de catre utilizator. Aceste date sunt de tip poligon, astfel se poate realiza forma celulei.\n",
    "\n",
    "In InfluxDB nu se poate realiza decat localizarea de tip \"Point\", deci sa fie doar un punct pe harta unde se afla celula respectiva. Astfel, vom scoate doar primele datele de latitudine si logitudine din cadrul fisierului GEOJSON, iar acest lucru il cealizam cu ajutorul functiei 'lambda', care va parcurge toate campurile fisierului si ne va extrage doar cele doua componente de geolocatie.\n",
    "\n",
    "In urma extrageri latitudinii si longitudinii le vom alatura tabelului deja existent cu ajutorul functiei 'merge'.\n",
    "    Se creeaza un index pentru date, in functie de coloana de timp (\"datetime\") si se vor scrie datele in interiorul masuratorii create."
   ]
  },
  {
   "cell_type": "code",
   "execution_count": 66,
   "metadata": {},
   "outputs": [],
   "source": [
    "# Scrierea datelor in InfluxDB\n",
    "def f_call():\n",
    "    path = 'D:\\Facultate\\Licenta\\Date\\Test\\call'\n",
    "    files = glob.glob(path + \"/*.csv\")\n",
    "    for filename in files:\n",
    "        df = pd.read_csv(filename, index_col=None)\n",
    "        # Pregatirea datelor\n",
    "        fields = ['datetime', 'CellID', 'provinceName', 'cell2Province', 'Province2cell'] \n",
    "        datatags = ['provinceName']\n",
    "        # Pastrarea coloanele de interes\n",
    "        df = df[fields]\n",
    "        # Geolocatie - coordonate geojson\n",
    "    with open(\"D:\\Facultate\\Licenta\\Date\\Test\\milano-grid.geojson\", \"r\") as pathX:\n",
    "        data = json.load(pathX)\n",
    "        df1 = pd.DataFrame(data[\"features\"])\n",
    "        df1['cellId'] = df1['properties'].apply(lambda x: x['cellId'])\n",
    "        df1['lat'] = df1['geometry'].apply(lambda x: x['coordinates'][0][0][1])\n",
    "        df1['lon'] = df1['geometry'].apply(lambda x: x['coordinates'][0][0][0])\n",
    "        df1 = df1.drop(['type', 'id', 'geometry', 'properties'], axis=1)\n",
    "    df2 = pd.merge(df, df1, left_on= 'CellID', right_on= 'cellId') \n",
    "    df2 = df2.drop(['cellId'], axis=1)\n",
    "    print(df2)\n",
    "    #Indexare\n",
    "    df.set_index('datetime',inplace=True)\n",
    "    #Scriere\n",
    "    # write_api.write(bucket, record=df2, data_frame_measurement_name='Date_9', data_frame_tag_columns=datatags)"
   ]
  },
  {
   "cell_type": "markdown",
   "metadata": {},
   "source": [
    "Pentru datele din cel de-al doilea fisier apare o singura schimbare in codul de incarcare al datelor. Datele din tabele prezinta o coloana de 'contrycode', prin care ne este greu sa identificam tara cu datele aferente, prin urmare am creat un tabel separat cu numele tarilor in funtie de numarul acestora:"
   ]
  },
  {
   "cell_type": "code",
   "execution_count": 67,
   "metadata": {},
   "outputs": [],
   "source": [
    "def f_sms():\n",
    "    path = 'D:\\Facultate\\Licenta\\Date\\Test\\sms'\n",
    "    files = glob.glob(path + \"/*.csv\")\n",
    "    #Inlocuire 'CountryCode' cu 'CountryName' in fisierele sms \n",
    "    for filename in files:\n",
    "        df = pd.read_csv(filename, index_col=None)\n",
    "        fields = ['datetime', 'CellID', 'countrycode', 'smsin', 'smsout', 'callin', 'callout', 'internet'] \n",
    "        df = df[fields]\n",
    "        df1 = pd.read_csv('D:\\Facultate\\Licenta\\Date\\Test\\CountryCode.csv')\n",
    "        df2 = pd.merge(df, df1, on='countrycode')\n",
    "        # print(df2)\n",
    "        fields1 = ['datetime', 'CellID', 'CountryName', 'smsin', 'smsout', 'callin', 'callout', 'internet']\n",
    "        datatags1 = ['CountryName']\n",
    "        df2 = df2[fields1]\n",
    "    # Geolocatie - coordonate geojson\n",
    "    with open(\"D:\\Facultate\\Licenta\\Date\\Test\\milano-grid.geojson\", \"r\") as pathX:\n",
    "        data = json.load(pathX)\n",
    "        df3 = pd.DataFrame(data[\"features\"])\n",
    "        df3['cellId'] = df3['properties'].apply(lambda x: x['cellId'])\n",
    "        df3['lat'] = df3['geometry'].apply(lambda x: x['coordinates'][0][0][1])\n",
    "        df3['lon'] = df3['geometry'].apply(lambda x: x['coordinates'][0][0][0])\n",
    "        df3 = df3.drop(['type', 'id', 'geometry', 'properties'], axis=1)\n",
    "    df4 = pd.merge(df2, df3, left_on= 'CellID', right_on= 'cellId') \n",
    "    df4 = df4.drop(['cellId'], axis=1)\n",
    "    print(df4)\n",
    "    df4.set_index('datetime',inplace=True)\n",
    "    write_api.write(bucket, record=df4, data_frame_measurement_name='Date_9', data_frame_tag_columns=datatags1)"
   ]
  },
  {
   "cell_type": "markdown",
   "metadata": {},
   "source": [
    "<h3>PASUL 4:</h3><b>Interogarea datelor</b>"
   ]
  },
  {
   "cell_type": "markdown",
   "metadata": {},
   "source": [
    "Pentru a putea interoga datele dorite din baza de date vom realiza o functie care preia codul scris in Flux si il va scrie in baza de date:"
   ]
  },
  {
   "cell_type": "code",
   "execution_count": 68,
   "metadata": {},
   "outputs": [],
   "source": [
    "#Query\n",
    "def query_1():\n",
    "    query_api = client.query_api()\n",
    "    query = 'from(bucket: \"Licenta\")\\\n",
    "    |> range(start: 2013-11-01, stop: 2013-11-02)\\\n",
    "    |> filter(fn: (r) => r._measurement == \"Date_9\")\\\n",
    "    |> filter(fn: (r) => r._field == \"internet\")\\\n",
    "    |> filter(fn: (r) => r.CountryName == \"Italy\" )\\\n",
    "    |> limit(n:20)\\\n",
    "    |> keep(columns:[\"_time\", \"_value\"])' \n",
    "\n",
    "    final_df = client.query_api().query_data_frame(org=org, query=query)\n",
    "    final_df[\"_time\"] = pd.to_datetime(final_df[\"_time\"].astype(str))\n",
    "    final_df = final_df.drop(columns=[\"result\", \"table\"])\n",
    "    final_df = final_df.set_index(\"_time\")\n",
    "    # print(final_df)\n",
    "    final_df.plot()"
   ]
  },
  {
   "cell_type": "markdown",
   "metadata": {},
   "source": [
    "<h3>PASUL 5:</h3><b>Estimarea datelor</b>"
   ]
  },
  {
   "cell_type": "markdown",
   "metadata": {},
   "source": [
    "Pentru a putea realiza estimari de date, ca prim pas trebuie sa realizez o interogare care mai apoi o voi face un dataframe. Toate datele din dataframe vor fi pregatite, astfel voi seta ca index timpul, iar ulterior voi pastra doar indexum si valorile aferente acestuia.\n",
    "Pentru a realiza vizualizarea propriu-zisa a trebuit sa creez o fereastra de dimenziuni: 10 latime si 8 inaltime, cu luniile principale de culoare neagra si verde, iar estimarea este de culoare rosie pentru a putea fi usor diferentiata fata de ceellalte doua linii.\n",
    "Toate aceste date vor rezulta in final un grafic care ne arata traficul de internet din Italia intr-o zi si cum va evolua el in dimineata urmatoare urmatoare."
   ]
  },
  {
   "cell_type": "code",
   "execution_count": 69,
   "metadata": {},
   "outputs": [],
   "source": [
    "def prognozare():\n",
    "    # Interogarea datelor\n",
    "    query = 'from(bucket: \"Licenta\") \\\n",
    "    |> range(start: 2013-11-01, stop: 2013-11-02) \\\n",
    "    |> filter(fn: (r) => r._measurement == \"Date_9\") \\\n",
    "    |> filter(fn: (r) => r.CountryName == \"Italy\") \\\n",
    "    |> filter(fn: (r) => r._field == \"internet\")'\n",
    "    # Query dataframe\n",
    "    df = client.query_api().query_data_frame(org=org, query=query)\n",
    "    #Pregatirea datelor\n",
    "    df_holt = df.set_index(\"_time\") # setare index\n",
    "    df2 = df_holt.iloc[:,4] # pastrarea indexului si valorilor\n",
    "\n",
    "    df3 = Holt(df2,damped_trend=True,initialization_method=\"estimated\").fit(optimized=True)\n",
    "    df4 = df3.forecast(10).rename(\"Prognozarea in timp\")\n",
    "    # Caracteristicile vizualizarii\n",
    "    plt.figure(figsize=(10, 8))\n",
    "    plt.plot(df_holt[\"_value\"], marker='o', color='black')\n",
    "    plt.plot(df3.fittedvalues, color='green')\n",
    "    line1, = plt.plot(df4, marker='o', color='red')\n",
    "    plt.legend([line1], [df4.name])"
   ]
  },
  {
   "cell_type": "code",
   "execution_count": 70,
   "metadata": {},
   "outputs": [],
   "source": [
    "def locatie():\n",
    "    path = 'D:\\Facultate\\Licenta\\Date\\Test\\sms'\n",
    "    files = glob.glob(path + \"/*.csv\")\n",
    "    for filename in files:\n",
    "        df = pd.read_csv(filename, index_col=None)\n",
    "        fields = ['CellID','internet'] \n",
    "        df = df[fields]\n",
    "        df4 = df.groupby('CellID')[\"internet\"].sum() \n",
    "\n",
    "        with open(\"D:\\Facultate\\Licenta\\Date\\Test\\milano-grid.geojson\", \"r\") as pathX:\n",
    "            data = json.load(pathX)\n",
    "            df3 = pd.DataFrame(data[\"features\"])\n",
    "            df3['cellId'] = df3['properties'].apply(lambda x: x['cellId'])\n",
    "            df3['lat'] = df3['geometry'].apply(lambda x: x['coordinates'][0][0][1])\n",
    "            df3['lon'] = df3['geometry'].apply(lambda x: x['coordinates'][0][0][0])\n",
    "            df3 = df3.drop(['type', 'id', 'geometry', 'properties'], axis=1)\n",
    "        df2 = pd.merge(df4, df3, left_on= 'CellID', right_on= 'cellId')\n",
    "\n",
    "    fig = px.scatter_mapbox(df2, lat=\"lat\", lon=\"lon\", hover_data=[\"cellId\"], \n",
    "                                color = 'internet', zoom=12, height=500, \n",
    "                                mapbox_style = \"carto-positron\") \n",
    "    fig.update_layout(mapbox_style=\"open-street-map\")\n",
    "    fig.update_layout(margin={\"r\":0,\"t\":0,\"l\":0,\"b\":0})\n",
    "    fig.show()"
   ]
  },
  {
   "cell_type": "markdown",
   "metadata": {},
   "source": [
    "<h3>PASUL 6:</h3><b>Verificare pentru rulare</b>"
   ]
  },
  {
   "cell_type": "markdown",
   "metadata": {},
   "source": [
    "Pentru a nu ne incurca cu functiile pe care le realizam in cadrul programului am realizat o verificare pentru acestea. Acest lucru se realizeaza cu ajutorul lui if, care realizeaza rularea funtiilor care sunt de tip '__main__':"
   ]
  },
  {
   "cell_type": "code",
   "execution_count": 71,
   "metadata": {},
   "outputs": [
    {
     "name": "stderr",
     "output_type": "stream",
     "text": [
      "c:\\Users\\Lavinia\\AppData\\Local\\Programs\\Python\\Python310\\lib\\site-packages\\statsmodels\\tsa\\base\\tsa_model.py:471: ValueWarning:\n",
      "\n",
      "No frequency information was provided, so inferred frequency H will be used.\n",
      "\n"
     ]
    },
    {
     "data": {
      "image/png": "[encoded data removed]",
      "text/plain": [
       "<Figure size 720x576 with 1 Axes>"
      ]
     },
     "metadata": {
      "needs_background": "light"
     },
     "output_type": "display_data"
    }
   ],
   "source": [
    "if __name__ == \"__main__\":\n",
    "    # f_call()\n",
    "    # f_sms()\n",
    "    # query_1()\n",
    "    prognozare()\n",
    "    # locatie()"
   ]
  }
 ],
 "metadata": {
  "interpreter": {
   "hash": "814ce65f2dd4b7d46e970d9faf33bdad147882e8827a215435ddd6a34311f66b"
  },
  "kernelspec": {
   "display_name": "Python 3.10.0 64-bit",
   "language": "python",
   "name": "python3"
  },
  "language_info": {
   "codemirror_mode": {
    "name": "ipython",
    "version": 3
   },
   "file_extension": ".py",
   "mimetype": "text/x-python",
   "name": "python",
   "nbconvert_exporter": "python",
   "pygments_lexer": "ipython3",
   "version": "3.10.0"
  },
  "orig_nbformat": 4
 },
 "nbformat": 4,
 "nbformat_minor": 2
}
